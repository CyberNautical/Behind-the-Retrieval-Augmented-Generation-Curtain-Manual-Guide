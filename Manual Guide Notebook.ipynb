{
 "cells": [
  {
   "cell_type": "markdown",
   "metadata": {},
   "source": [
    "Welcome to the interactive guide on Retrieval Augmented Generation (RAG). In this manual, we will walk you through the entire process of setting up and using RAG to enhance the capabilities of large language models (LLMs) with real-time data retrieval. By integrating cutting-edge technologies like vector databases and advanced NLP models, RAG allows you to tailor AI responses to specific data queries, making it a powerful tool for developers and data scientists. Follow the steps outlined below to build a RAG system from scratch, using practical tools and examples to bring your data to life."
   ]
  },
  {
   "cell_type": "code",
   "execution_count": 45,
   "metadata": {},
   "outputs": [
    {
     "data": {
      "text/html": [
       "<div>\n",
       "<style scoped>\n",
       "    .dataframe tbody tr th:only-of-type {\n",
       "        vertical-align: middle;\n",
       "    }\n",
       "\n",
       "    .dataframe tbody tr th {\n",
       "        vertical-align: top;\n",
       "    }\n",
       "\n",
       "    .dataframe thead th {\n",
       "        text-align: right;\n",
       "    }\n",
       "</style>\n",
       "<table border=\"1\" class=\"dataframe\">\n",
       "  <thead>\n",
       "    <tr style=\"text-align: right;\">\n",
       "      <th></th>\n",
       "      <th>name</th>\n",
       "      <th>sku</th>\n",
       "      <th>mpn</th>\n",
       "      <th>price</th>\n",
       "      <th>in_stock</th>\n",
       "      <th>currency</th>\n",
       "      <th>brand</th>\n",
       "      <th>description</th>\n",
       "      <th>images</th>\n",
       "      <th>gender</th>\n",
       "    </tr>\n",
       "  </thead>\n",
       "  <tbody>\n",
       "    <tr>\n",
       "      <th>0</th>\n",
       "      <td>DKNY Unisex Black &amp; Grey Printed Medium Trolle...</td>\n",
       "      <td>10017413.0</td>\n",
       "      <td>10017413.0</td>\n",
       "      <td>11745.0</td>\n",
       "      <td>True</td>\n",
       "      <td>INR</td>\n",
       "      <td>DKNY</td>\n",
       "      <td>Black and grey printed medium trolley bag, sec...</td>\n",
       "      <td>http://assets.myntassets.com/assets/images/100...</td>\n",
       "      <td>Unisex</td>\n",
       "    </tr>\n",
       "    <tr>\n",
       "      <th>1</th>\n",
       "      <td>EthnoVogue Women Beige &amp; Grey Made to Measure ...</td>\n",
       "      <td>10016283.0</td>\n",
       "      <td>10016283.0</td>\n",
       "      <td>5810.0</td>\n",
       "      <td>True</td>\n",
       "      <td>INR</td>\n",
       "      <td>EthnoVogue</td>\n",
       "      <td>Beige &amp; Grey made to measure kurta with churid...</td>\n",
       "      <td>http://assets.myntassets.com/assets/images/100...</td>\n",
       "      <td>Women</td>\n",
       "    </tr>\n",
       "    <tr>\n",
       "      <th>2</th>\n",
       "      <td>SPYKAR Women Pink Alexa Super Skinny Fit High-...</td>\n",
       "      <td>10009781.0</td>\n",
       "      <td>10009781.0</td>\n",
       "      <td>899.0</td>\n",
       "      <td>True</td>\n",
       "      <td>INR</td>\n",
       "      <td>SPYKAR</td>\n",
       "      <td>Pink coloured wash 5-pocket high-rise cropped ...</td>\n",
       "      <td>http://assets.myntassets.com/assets/images/100...</td>\n",
       "      <td>Women</td>\n",
       "    </tr>\n",
       "    <tr>\n",
       "      <th>3</th>\n",
       "      <td>Raymond Men Blue Self-Design Single-Breasted B...</td>\n",
       "      <td>10015921.0</td>\n",
       "      <td>10015921.0</td>\n",
       "      <td>5599.0</td>\n",
       "      <td>True</td>\n",
       "      <td>INR</td>\n",
       "      <td>Raymond</td>\n",
       "      <td>Blue self-design bandhgala suitBlue self-desig...</td>\n",
       "      <td>http://assets.myntassets.com/assets/images/pro...</td>\n",
       "      <td>Men</td>\n",
       "    </tr>\n",
       "    <tr>\n",
       "      <th>4</th>\n",
       "      <td>Parx Men Brown &amp; Off-White Slim Fit Printed Ca...</td>\n",
       "      <td>10017833.0</td>\n",
       "      <td>10017833.0</td>\n",
       "      <td>759.0</td>\n",
       "      <td>True</td>\n",
       "      <td>INR</td>\n",
       "      <td>Parx</td>\n",
       "      <td>Brown and off-white printed casual shirt, has ...</td>\n",
       "      <td>http://assets.myntassets.com/assets/images/pro...</td>\n",
       "      <td>Men</td>\n",
       "    </tr>\n",
       "    <tr>\n",
       "      <th>...</th>\n",
       "      <td>...</td>\n",
       "      <td>...</td>\n",
       "      <td>...</td>\n",
       "      <td>...</td>\n",
       "      <td>...</td>\n",
       "      <td>...</td>\n",
       "      <td>...</td>\n",
       "      <td>...</td>\n",
       "      <td>...</td>\n",
       "      <td>...</td>\n",
       "    </tr>\n",
       "    <tr>\n",
       "      <th>144</th>\n",
       "      <td>Parx Men Blue Slim Fit Checked Casual Shirt</td>\n",
       "      <td>10017599.0</td>\n",
       "      <td>10017599.0</td>\n",
       "      <td>699.0</td>\n",
       "      <td>True</td>\n",
       "      <td>INR</td>\n",
       "      <td>Parx</td>\n",
       "      <td>Blue checked casual shirt, has a spread collar...</td>\n",
       "      <td>http://assets.myntassets.com/assets/images/pro...</td>\n",
       "      <td>Men</td>\n",
       "    </tr>\n",
       "    <tr>\n",
       "      <th>145</th>\n",
       "      <td>JBN Creation Boys Maroon &amp; Brown Sherwani Set</td>\n",
       "      <td>10002785.0</td>\n",
       "      <td>10002785.0</td>\n",
       "      <td>1154.0</td>\n",
       "      <td>True</td>\n",
       "      <td>INR</td>\n",
       "      <td>JBN Creation</td>\n",
       "      <td>Maroon and brown sherwaniMaroon woven design s...</td>\n",
       "      <td>http://assets.myntassets.com/assets/images/pro...</td>\n",
       "      <td>Boys</td>\n",
       "    </tr>\n",
       "    <tr>\n",
       "      <th>146</th>\n",
       "      <td>U.S. Polo Assn. Kids Boys Navy Hooded Sweatshirt</td>\n",
       "      <td>1000905.0</td>\n",
       "      <td>1000905.0</td>\n",
       "      <td>1234.0</td>\n",
       "      <td>True</td>\n",
       "      <td>INR</td>\n",
       "      <td>U.S. Polo Assn. Kids</td>\n",
       "      <td>Navy sweatshirt with applique', has an attache...</td>\n",
       "      <td>http://assets.myntassets.com/assets/images/100...</td>\n",
       "      <td>Boys</td>\n",
       "    </tr>\n",
       "    <tr>\n",
       "      <th>147</th>\n",
       "      <td>Bvlgari Women Omnia Paraiba Eau De Toilette Pe...</td>\n",
       "      <td>10001445.0</td>\n",
       "      <td>10001445.0</td>\n",
       "      <td>7000.0</td>\n",
       "      <td>True</td>\n",
       "      <td>INR</td>\n",
       "      <td>Bvlgari</td>\n",
       "      <td>Bvlgari Omnia Paraiba Eau De Toilette captures...</td>\n",
       "      <td>http://assets.myntassets.com/assets/images/pro...</td>\n",
       "      <td>Women</td>\n",
       "    </tr>\n",
       "    <tr>\n",
       "      <th>148</th>\n",
       "      <td>PARFAIT Plus Size Black Solid Underwired Light...</td>\n",
       "      <td>10013603.0</td>\n",
       "      <td>10013603.0</td>\n",
       "      <td>1819.0</td>\n",
       "      <td>True</td>\n",
       "      <td>INR</td>\n",
       "      <td>PARFAIT</td>\n",
       "      <td>Black solid medium-coverage everyday bra with ...</td>\n",
       "      <td>http://assets.myntassets.com/assets/images/100...</td>\n",
       "      <td>Women</td>\n",
       "    </tr>\n",
       "  </tbody>\n",
       "</table>\n",
       "<p>149 rows × 10 columns</p>\n",
       "</div>"
      ],
      "text/plain": [
       "                                                  name         sku  \\\n",
       "0    DKNY Unisex Black & Grey Printed Medium Trolle...  10017413.0   \n",
       "1    EthnoVogue Women Beige & Grey Made to Measure ...  10016283.0   \n",
       "2    SPYKAR Women Pink Alexa Super Skinny Fit High-...  10009781.0   \n",
       "3    Raymond Men Blue Self-Design Single-Breasted B...  10015921.0   \n",
       "4    Parx Men Brown & Off-White Slim Fit Printed Ca...  10017833.0   \n",
       "..                                                 ...         ...   \n",
       "144        Parx Men Blue Slim Fit Checked Casual Shirt  10017599.0   \n",
       "145      JBN Creation Boys Maroon & Brown Sherwani Set  10002785.0   \n",
       "146   U.S. Polo Assn. Kids Boys Navy Hooded Sweatshirt   1000905.0   \n",
       "147  Bvlgari Women Omnia Paraiba Eau De Toilette Pe...  10001445.0   \n",
       "148  PARFAIT Plus Size Black Solid Underwired Light...  10013603.0   \n",
       "\n",
       "            mpn    price in_stock currency                 brand  \\\n",
       "0    10017413.0  11745.0     True      INR                  DKNY   \n",
       "1    10016283.0   5810.0     True      INR            EthnoVogue   \n",
       "2    10009781.0    899.0     True      INR                SPYKAR   \n",
       "3    10015921.0   5599.0     True      INR               Raymond   \n",
       "4    10017833.0    759.0     True      INR                  Parx   \n",
       "..          ...      ...      ...      ...                   ...   \n",
       "144  10017599.0    699.0     True      INR                  Parx   \n",
       "145  10002785.0   1154.0     True      INR          JBN Creation   \n",
       "146   1000905.0   1234.0     True      INR  U.S. Polo Assn. Kids   \n",
       "147  10001445.0   7000.0     True      INR               Bvlgari   \n",
       "148  10013603.0   1819.0     True      INR               PARFAIT   \n",
       "\n",
       "                                           description  \\\n",
       "0    Black and grey printed medium trolley bag, sec...   \n",
       "1    Beige & Grey made to measure kurta with churid...   \n",
       "2    Pink coloured wash 5-pocket high-rise cropped ...   \n",
       "3    Blue self-design bandhgala suitBlue self-desig...   \n",
       "4    Brown and off-white printed casual shirt, has ...   \n",
       "..                                                 ...   \n",
       "144  Blue checked casual shirt, has a spread collar...   \n",
       "145  Maroon and brown sherwaniMaroon woven design s...   \n",
       "146  Navy sweatshirt with applique', has an attache...   \n",
       "147  Bvlgari Omnia Paraiba Eau De Toilette captures...   \n",
       "148  Black solid medium-coverage everyday bra with ...   \n",
       "\n",
       "                                                images  gender  \n",
       "0    http://assets.myntassets.com/assets/images/100...  Unisex  \n",
       "1    http://assets.myntassets.com/assets/images/100...   Women  \n",
       "2    http://assets.myntassets.com/assets/images/100...   Women  \n",
       "3    http://assets.myntassets.com/assets/images/pro...     Men  \n",
       "4    http://assets.myntassets.com/assets/images/pro...     Men  \n",
       "..                                                 ...     ...  \n",
       "144  http://assets.myntassets.com/assets/images/pro...     Men  \n",
       "145  http://assets.myntassets.com/assets/images/pro...    Boys  \n",
       "146  http://assets.myntassets.com/assets/images/100...    Boys  \n",
       "147  http://assets.myntassets.com/assets/images/pro...   Women  \n",
       "148  http://assets.myntassets.com/assets/images/100...   Women  \n",
       "\n",
       "[149 rows x 10 columns]"
      ]
     },
     "execution_count": 45,
     "metadata": {},
     "output_type": "execute_result"
    }
   ],
   "source": [
    "import pandas as pd\n",
    "df = pd.read_csv('Demo_fashion_products.csv')\n",
    "df = df[df['description'].notna()] # remove any NaN values as it blows up serialization\n",
    "data = df.to_dict('records')\n",
    "df"
   ]
  },
  {
   "cell_type": "code",
   "execution_count": 46,
   "metadata": {},
   "outputs": [],
   "source": [
    "from qdrant_client import models, QdrantClient - https://github.com/qdrant/qdrant\n",
    "from sentence_transformers import SentenceTransformer # https://huggingface.co/sentence-transformers"
   ]
  },
  {
   "cell_type": "code",
   "execution_count": 47,
   "metadata": {},
   "outputs": [],
   "source": [
    "encoder = SentenceTransformer('all-MiniLM-L6-v2') # Model to create embeddings - https://huggingface.co/sentence-transformers/all-MiniLM-L6-v2"
   ]
  },
  {
   "cell_type": "code",
   "execution_count": 48,
   "metadata": {},
   "outputs": [],
   "source": [
    "# create the vector database client\n",
    "qdrant = QdrantClient(\":memory:\") # Create in-memory Qdrant instance"
   ]
  },
  {
   "cell_type": "code",
   "execution_count": 49,
   "metadata": {},
   "outputs": [
    {
     "data": {
      "text/plain": [
       "True"
      ]
     },
     "execution_count": 49,
     "metadata": {},
     "output_type": "execute_result"
    }
   ],
   "source": [
    "# Create collection to store top fashions\n",
    "qdrant.recreate_collection(\n",
    "    collection_name=\"top_fashion_products\",\n",
    "    vectors_config=models.VectorParams(\n",
    "        size=encoder.get_sentence_embedding_dimension(), # Vector size is defined by used model\n",
    "        distance=models.Distance.COSINE\n",
    "    )\n",
    ")"
   ]
  },
  {
   "cell_type": "code",
   "execution_count": 50,
   "metadata": {},
   "outputs": [],
   "source": [
    "# vectorize!\n",
    "qdrant.upload_points(\n",
    "    collection_name=\"top_fashion_products\",\n",
    "    points=[\n",
    "        models.PointStruct(\n",
    "            id=idx,\n",
    "            vector=encoder.encode(doc[\"description\"]).tolist(),\n",
    "            payload=doc\n",
    "        ) for idx, doc in enumerate(data) # data is the variable holding all the fashions\n",
    "    ]\n",
    ")"
   ]
  },
  {
   "cell_type": "code",
   "execution_count": 53,
   "metadata": {},
   "outputs": [],
   "source": [
    "user_prompt = \"Suggest amazing formal pants\""
   ]
  },
  {
   "cell_type": "code",
   "execution_count": 54,
   "metadata": {},
   "outputs": [
    {
     "name": "stdout",
     "output_type": "stream",
     "text": [
      "{'name': 'SPYKAR Women Burgundy Alexa Super Skinny Fit High-Rise Clean Look Stretchable Ankle Jeans', 'sku': 10009695.0, 'mpn': 10009695.0, 'price': 899.0, 'in_stock': True, 'currency': 'INR', 'brand': 'SPYKAR', 'description': 'Burgundy coloured wash 5-pocket high-rise jeans, clean look, no fade, has a button and zip closure, and waistband with belt loops', 'images': 'http://assets.myntassets.com/assets/images/10009695/2019/7/3/b4eac087-58cb-4b1f-91b7-bd0e56c6e1701562148015751-SPYKAR-Women-Maroon-Super-Skinny-Fit-High-Rise-Clean-Look-St-1.jpg ~ http://assets.myntassets.com/assets/images/10009695/2019/7/3/daf89a15-4099-43e4-b8e7-81de776083a91562148015734-SPYKAR-Women-Maroon-Super-Skinny-Fit-High-Rise-Clean-Look-St-2.jpg ~ http://assets.myntassets.com/assets/images/10009695/2019/7/3/8d90cf23-f3d6-4dfe-a279-f9cf9e3893081562148015716-SPYKAR-Women-Maroon-Super-Skinny-Fit-High-Rise-Clean-Look-St-3.jpg ~ http://assets.myntassets.com/assets/images/10009695/2019/7/3/a286f3ec-63a5-421d-88af-7682dc75f7db1562148015695-SPYKAR-Women-Maroon-Super-Skinny-Fit-High-Rise-Clean-Look-St-4.jpg ~ http://assets.myntassets.com/assets/images/10009695/2019/7/3/d763a1d6-b379-45dd-8ca7-9243fda66ba71562148015672-SPYKAR-Women-Maroon-Super-Skinny-Fit-High-Rise-Clean-Look-St-5.jpg ~ http://assets.myntassets.com/assets/images/10009695/2019/7/3/1931f27a-d4f7-4878-b406-02daa2d09e4c1562148015636-SPYKAR-Women-Maroon-Super-Skinny-Fit-High-Rise-Clean-Look-St-6.jpg ~ http://assets.myntassets.com/assets/images/10009695/2019/7/3/574daf2e-d4a8-4286-9364-e25f52bacfdd1562148015621-SPYKAR-Women-Maroon-Super-Skinny-Fit-High-Rise-Clean-Look-St-7.jpg', 'gender': 'Women'} score: 0.5846643572499806\n",
      "{'name': 'Parx Men Brown Tapered Fit Solid Regular Trousers', 'sku': 10000571.0, 'mpn': 10000571.0, 'price': 664.0, 'in_stock': True, 'currency': 'INR', 'brand': 'Parx', 'description': 'Brown solid regular trousers regular trousers', 'images': 'http://assets.myntassets.com/assets/images/productimage/2019/6/12/925f5115-c40c-4177-bc63-98b0b7f9f42e1560301313659-1.jpg ~ http://assets.myntassets.com/assets/images/productimage/2019/6/12/a668f1ac-9dba-423f-90dc-65363aa241b21560301313718-2.jpg ~ http://assets.myntassets.com/assets/images/productimage/2019/6/12/f5603da3-dab2-4c2c-8eb0-ce544f751d131560301313762-3.jpg ~ http://assets.myntassets.com/assets/images/productimage/2019/6/12/c5ef1d19-2207-47f2-b9fb-bc99af177ee11560301313800-4.jpg ~ http://assets.myntassets.com/assets/images/productimage/2019/6/12/39d27c33-7736-4c68-ba53-c0a618684f0a1560301313837-5.jpg', 'gender': 'Men'} score: 0.5794825548021063\n",
      "{'name': 'GAS Women Navy Blue Regular Fit Mid-Rise Clean Look Stretchable Jeans', 'sku': 10002079.0, 'mpn': 10002079.0, 'price': 3595.0, 'in_stock': True, 'currency': 'INR', 'brand': 'GAS', 'description': 'Navy Blue dark wash 5-pocket mid-rise jeans, clean look, no fade, has a button and zip closure, and waistband with belt loops', 'images': 'http://assets.myntassets.com/assets/images/productimage/2019/6/11/0cd4d4aa-b24f-47c9-a7eb-4eaef4a556ba1560231153313-1.jpg ~ http://assets.myntassets.com/assets/images/productimage/2019/6/11/9e7ea795-6778-4198-8d81-99165e49c3761560231153325-2.jpg ~ http://assets.myntassets.com/assets/images/productimage/2019/6/11/742d9def-f60c-43ce-8e77-5981aaec118f1560231153342-3.jpg ~ http://assets.myntassets.com/assets/images/productimage/2019/6/11/3d4ba412-a2eb-41ce-8b44-139bfb9144ef1560231153355-4.jpg ~ http://assets.myntassets.com/assets/images/productimage/2019/6/11/ee5085dc-1318-437c-8823-258474ac090b1560231153371-5.jpg ~ http://assets.myntassets.com/assets/images/productimage/2019/6/11/1bd7fb88-8621-4d57-b015-ffbef6b357691560231153387-6.jpg ~ http://assets.myntassets.com/assets/images/productimage/2019/6/11/c77af33f-b312-42be-93c2-22f8242b7ced1560231153404-7.jpg', 'gender': 'Women'} score: 0.56217792359457\n"
     ]
    }
   ],
   "source": [
    "# Search time!\n",
    "\n",
    "hits = qdrant.search(\n",
    "    collection_name=\"top_fashion_products\",\n",
    "    query_vector=encoder.encode(user_prompt).tolist(),\n",
    "    limit=3\n",
    ")\n",
    "for hit in hits:\n",
    "  print(hit.payload, \"score:\", hit.score)"
   ]
  },
  {
   "cell_type": "code",
   "execution_count": 61,
   "metadata": {},
   "outputs": [],
   "source": [
    "# For good practice lets store results in a var\n",
    "search_results = [hit.payload for hit in hits]"
   ]
  },
  {
   "cell_type": "markdown",
   "metadata": {},
   "source": [
    "Now we are implementing RAG"
   ]
  },
  {
   "cell_type": "code",
   "execution_count": 62,
   "metadata": {},
   "outputs": [
    {
     "name": "stdout",
     "output_type": "stream",
     "text": [
      "ChatCompletionMessage(content=\"I'm here to help you find the perfect pair of formal pants. The SPYKAR burgundy-colored jeans you’ve mentioned are priced at ₹899 INR, but these are categorized as jeans and not formal pants. However, the Parx tapered fit brown trousers may serve as semi-formal or business-casual attire, and they're priced at ₹664 INR.\\n\\nPrices and availability can vary widely based on the retailer, current sales, promotions, and whether the item is new or on clearance. If you're looking for true formal pants specifically in burgundy, I can help you locate options that best fit your request. Do keep in mind that prices can vary, and it would be best to visit the store of your preference or its online platform for the most accurate and up-to-date information.\", role='assistant', function_call=None, tool_calls=None)\n"
     ]
    }
   ],
   "source": [
    "import openai\n",
    "\n",
    "client = openai.AzureOpenAI(\n",
    "        azure_endpoint=\"https://demoaistudio5526374213.openai.azure.com/openai/deployments/gpt-4/chat/completions?api-version=2023-03-15-preview\",\n",
    "        api_key=\"KEY\",\n",
    "        api_version=\"2024-02-15-preview\"\n",
    "    )\n",
    "completion = client.chat.completions.create(\n",
    "    model=\"gpt-4\",\n",
    "    messages=[\n",
    "        {\"role\": \"system\", \"content\": \"You are chatbot, a clothing specialist. Your top priority is to help guide users into selecting amazing fashions and guide them with their requests.\"},\n",
    "        {\"role\": \"user\", \"content\": \"What is the price of formal pants that are Burgundy \"},\n",
    "        {\"role\": \"assistant\", \"content\": str(search_results)}\n",
    "    ]\n",
    ")\n",
    "print(completion.choices[0].message)"
   ]
  }
 ],
 "metadata": {
  "kernelspec": {
   "display_name": "Python 3",
   "language": "python",
   "name": "python3"
  },
  "language_info": {
   "codemirror_mode": {
    "name": "ipython",
    "version": 3
   },
   "file_extension": ".py",
   "mimetype": "text/x-python",
   "name": "python",
   "nbconvert_exporter": "python",
   "pygments_lexer": "ipython3",
   "version": "3.12.2"
  }
 },
 "nbformat": 4,
 "nbformat_minor": 2
}
